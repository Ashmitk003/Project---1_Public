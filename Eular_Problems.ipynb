{
  "nbformat": 4,
  "nbformat_minor": 0,
  "metadata": {
    "colab": {
      "provenance": []
    },
    "kernelspec": {
      "name": "python3",
      "display_name": "Python 3"
    },
    "language_info": {
      "name": "python"
    }
  },
  "cells": [
    {
      "cell_type": "code",
      "execution_count": null,
      "metadata": {
        "id": "gp1dCXJZUrO5"
      },
      "outputs": [],
      "source": []
    },
    {
      "cell_type": "markdown",
      "source": [
        "Eular Problem 1 -If we list all the natural numbers below 10 that are multiples of 3 or 5, we get 3, 5, 6, and 9. The sum of these multiples is 23. Find the sum of all the multiples of 3 or 5 below 1000.\n",
        "\\"
      ],
      "metadata": {
        "id": "ex0KcGVrU0N7"
      }
    },
    {
      "cell_type": "code",
      "source": [
        "def sumofmultiples(n):\n",
        "  total = 0\n",
        "  for i in range(n):\n",
        "    if n < 1000:\n",
        "      if i%3==0 or i%5==0:\n",
        "        total = total + i\n",
        "    else:\n",
        "      break\n",
        "\n",
        "  if total ==0:\n",
        "    return \"Number is greater that 999\"\n",
        "  else:\n",
        "    return total\n",
        "\n",
        "x = int(input(\"Enter a Number : \"))\n",
        "\n",
        "print('We are calucalting the sum, pleae wait')\n",
        "y = sumofmultiples(x)\n",
        "print (y)\n",
        "\n"
      ],
      "metadata": {
        "colab": {
          "base_uri": "https://localhost:8080/"
        },
        "id": "lZEahGgMVJQM",
        "outputId": "2310fe72-54f5-4cc3-c886-3d7865c2dc01"
      },
      "execution_count": null,
      "outputs": [
        {
          "output_type": "stream",
          "name": "stdout",
          "text": [
            "Enter a Number : 1000\n",
            "We are calucalting the sum, pleae wait\n",
            "Number is greater that 999\n"
          ]
        }
      ]
    },
    {
      "cell_type": "markdown",
      "source": [
        "Eular Problem 10 - The sum of the primes below 10 is 2 + 3 + 5 + 7 = 17. Find the sum of all the primes below two million."
      ],
      "metadata": {
        "id": "vn_cDeKbYY1c"
      }
    },
    {
      "cell_type": "code",
      "source": [
        "def sumofprime(n):\n",
        "  if n < 2000000:\n",
        "    total = 0\n",
        "    for i in range(2, n+1):\n",
        "      for x in range(2, i+1):\n",
        "        if i%x == 0 and x<i:\n",
        "          flag = \" Not Prime\"\n",
        "          break\n",
        "        else:\n",
        "          flag = \"Prime\"\n",
        "      if flag == \"Prime\":\n",
        "        total = total + i\n",
        "    return total\n",
        "  else:\n",
        "    return \"Number is greater than or equal to 2 million - please enter a smaller number again\"\n",
        "\n",
        "\n",
        "x1 = int(input(\"Enter any number : \"))\n",
        "print ('the sum of prime numbers below the input number is : ', sumofprime(x1))\n",
        "\n",
        "\n"
      ],
      "metadata": {
        "colab": {
          "base_uri": "https://localhost:8080/"
        },
        "id": "J1BgL6R1Yos0",
        "outputId": "ad2cdc1d-fc17-43da-e35f-ac7408722eb0"
      },
      "execution_count": null,
      "outputs": [
        {
          "output_type": "stream",
          "name": "stdout",
          "text": [
            "Enter any number : 10\n",
            "the sum of prime numbers below the input number is :  17\n"
          ]
        }
      ]
    },
    {
      "cell_type": "markdown",
      "source": [
        "Eular Problem 3 - The prime factor of 13195 are 5, 7, 13, 29. What is the largest prime factor of the number 600851475143?\n"
      ],
      "metadata": {
        "id": "SolEqyHnkI1W"
      }
    },
    {
      "cell_type": "code",
      "source": [
        "def listofprime(n):\n",
        "    List = []\n",
        "    for i in range(2, n+1):\n",
        "      for x in range(2, i+1):\n",
        "        if i%x == 0 and x<i:\n",
        "          flag = \" Not Prime\"\n",
        "          break\n",
        "        else:\n",
        "          flag = \"Prime\"\n",
        "      if flag == \"Prime\":\n",
        "        List.append(i)\n",
        "    return List\n",
        "\n",
        "\n",
        "x1 = int(input(\"Enter any number : \"))\n",
        "finallist = listofprime(x1)\n",
        "for element in finallist:\n",
        "  if x1%element == 0:\n",
        "    largestprimefactor = element\n",
        "\n",
        "\n",
        "print ('the max of prime numbers below the input number is : ', largestprimefactor)\n",
        "\n",
        "\n"
      ],
      "metadata": {
        "colab": {
          "base_uri": "https://localhost:8080/"
        },
        "id": "09uAuv4zkAyr",
        "outputId": "2508530a-de82-4ed3-a07f-5918c019fb20"
      },
      "execution_count": null,
      "outputs": [
        {
          "output_type": "stream",
          "name": "stdout",
          "text": [
            "Enter any number : 13195\n",
            "the max of prime numbers below the input number is :  29\n"
          ]
        }
      ]
    },
    {
      "cell_type": "code",
      "source": [
        "#Another Attempt\n",
        "\n",
        "def problem2(n):\n",
        "  return max(factorize(n))\n",
        "\n",
        "def factorize(n):\n",
        "  factors = []\n",
        "  while n%2 == 0:\n",
        "    factors.append(2)\n",
        "    n //= 2\n",
        "\n",
        "  r = 3\n",
        "  while n>1:\n",
        "    while n%r==0:\n",
        "      factors.append(r)\n",
        "      n//=r\n",
        "    r+=2\n",
        "  return factors\n",
        "\n",
        "problem2(600851475143)\n"
      ],
      "metadata": {
        "colab": {
          "base_uri": "https://localhost:8080/"
        },
        "id": "Wpuu-e3XfQ5B",
        "outputId": "21853415-fe7e-46c2-ef0d-5c51270e2917"
      },
      "execution_count": null,
      "outputs": [
        {
          "output_type": "execute_result",
          "data": {
            "text/plain": [
              "6857"
            ]
          },
          "metadata": {},
          "execution_count": 62
        }
      ]
    },
    {
      "cell_type": "code",
      "source": [],
      "metadata": {
        "id": "_16-DhVrjfJc"
      },
      "execution_count": null,
      "outputs": []
    },
    {
      "cell_type": "markdown",
      "source": [
        "Eular Problem 4 - A palindromic number reads the same both ways. The largest palindrome made from the product of 2-digit numbers is 9009 = 91 X 99\n",
        "Find the largest palindrome made from the product of two 3-digit numbers"
      ],
      "metadata": {
        "id": "ApMST4bvWpNn"
      }
    },
    {
      "cell_type": "code",
      "source": [
        "from itertools import combinations\n",
        "\n",
        "def rSubset(arr, r):\n",
        "\n",
        "    # return list of all subsets of length r\n",
        "    # to deal with duplicate subsets use\n",
        "    # set(list(combinations(arr, r)))\n",
        "    return set(list(combinations(arr, r)))\n",
        "\n",
        "def isPalindrome(s):\n",
        "  if len(s) <= 1:\n",
        "    return True\n",
        "    # if first character is different from last it is not\n",
        "  if s[0] != s[-1]:\n",
        "    return False\n",
        "    #Now first == last, so we can throw those out!\n",
        "  return isPalindrome(s[1:-1])\n",
        "\n",
        "# Driver Function\n",
        "if __name__ == \"__main__\":\n",
        "    List2 = []\n",
        "    List3 = []\n",
        "    arr = list(range(1, 100))\n",
        "    List = rSubset(arr, 2)\n",
        "    for x, y in List:\n",
        "      List2.append(x*y)\n",
        "    for element in List2:\n",
        "      if isPalindrome(str(element)):\n",
        "        List3.append(element)\n",
        "    #print(arr)\n",
        "    #print(List)\n",
        "    #print(List2)\n",
        "    #print(List3)\n",
        "    print(\"The largest Palindrome is : \", max(List3))\n",
        "\n",
        "\n",
        "\n"
      ],
      "metadata": {
        "colab": {
          "base_uri": "https://localhost:8080/"
        },
        "id": "t1HqZoezWp5-",
        "outputId": "623b0a5b-5156-48d1-8eb3-b76e39f8e70e"
      },
      "execution_count": null,
      "outputs": [
        {
          "output_type": "stream",
          "name": "stdout",
          "text": [
            "The largest Palindrome is :  9009\n"
          ]
        }
      ]
    },
    {
      "cell_type": "markdown",
      "source": [
        "Kaprekar’s Constant\n",
        "Step 1: Choose any four digit number, say n. This is the first number of the\n",
        "sequence.\n",
        "Step 2: Create a new number α which is the largest number that can be\n",
        "formed by using the four digits of n.\n",
        "Step 3: Create a new number β which is the smallest number that can be\n",
        "formed by using the four digits of n.\n",
        "Step 4: α − β is the next number in the sequence.\n",
        "Step 5: Repeat from step 2.\n",
        "The sequence is called a Kaprekar sequence and the function K(n) = α − β\n",
        "is the Kaprekar mapping. Some numbers map to themselves; these are the fixed\n",
        "points of the Kaprekar mapping, and are called Kaprekar’s constants. Zero is\n",
        "a Kaprekar’s constant, and so is called a trivial Kaprekar’s constant. All other\n",
        "Kaprekar’s constant are nontrivial Kaprekar’s constants.\n",
        "For example, starting with 3524,\n",
        "K(3524) = 5432 − 2345 = 3087\n",
        "K(3087) = 8730 − 378 = 8352\n",
        "K(8352) = 8532 − 2358 = 6174 K(6174) = 7641 − 1467 = 6174\n",
        "with 6174 as a Kaprekar’s constant."
      ],
      "metadata": {
        "id": "9GQK1ii6h6j0"
      }
    },
    {
      "cell_type": "code",
      "source": [
        "import random\n",
        "\n",
        "def func(Rand_num):\n",
        "  Flag = 0\n",
        "  max_str = \"\"\n",
        "  min_str = \"\"\n",
        "  x = str(Rand_num)\n",
        "  new_list = list(x)\n",
        "  for i in range(0, len(new_list)):\n",
        "    new_list[i] = int(new_list[i])\n",
        "  min_list = sorted(new_list)\n",
        "  max_list = sorted(new_list, reverse = True)\n",
        "  for ele in max_list:\n",
        "    max_str += str(ele)\n",
        "  for ele in min_list:\n",
        "    min_str += str(ele)\n",
        "  max_num = int(max_str)\n",
        "  min_num = int(min_str)\n",
        "  knum = max_num - min_num\n",
        "  print ('The max number: ', max_num)\n",
        "  print ('The min number: ', min_num)\n",
        "  print ('The next number as input is : ', knum)\n",
        "  if knum == int(Rand_num):\n",
        "    print('We have reached the kaprikar constant')\n",
        "    Flag = 1\n",
        "  return knum, Flag\n",
        "\n",
        "List1 = list(range(1000,10000))\n",
        "kseries = []\n",
        "iter = int(input(\"How many Kaprekar number you want to generate \\n\"))\n",
        "Rand_num = random.choice(List1)\n",
        "kseries.append(Rand_num)\n",
        "print('The first chosen random number is : ', Rand_num)\n",
        "\n",
        "for i in range (0,iter):\n",
        "   knum, Flag = func(kseries[i])\n",
        "   if Flag == 0:\n",
        "    kseries.append(knum)\n",
        "   else:\n",
        "    break\n",
        "\n",
        "print('The resultant kaprikar Series is : \\n')\n",
        "print(kseries)\n",
        "\n",
        "\n",
        "\n",
        "\n",
        "\n",
        "\n",
        "\n"
      ],
      "metadata": {
        "colab": {
          "base_uri": "https://localhost:8080/"
        },
        "id": "GCWkTNJnYkud",
        "outputId": "59089edd-1bea-4b44-f38d-50be32fef477"
      },
      "execution_count": 34,
      "outputs": [
        {
          "output_type": "stream",
          "name": "stdout",
          "text": [
            "How many Kaprekar number you want to generate \n",
            "10\n",
            "The first chosen random number is :  1504\n",
            "The max number:  5410\n",
            "The min number:  145\n",
            "The next number as input is :  5265\n",
            "The max number:  6552\n",
            "The min number:  2556\n",
            "The next number as input is :  3996\n",
            "The max number:  9963\n",
            "The min number:  3699\n",
            "The next number as input is :  6264\n",
            "The max number:  6642\n",
            "The min number:  2466\n",
            "The next number as input is :  4176\n",
            "The max number:  7641\n",
            "The min number:  1467\n",
            "The next number as input is :  6174\n",
            "The max number:  7641\n",
            "The min number:  1467\n",
            "The next number as input is :  6174\n",
            "We have reached the kaprikar constant\n",
            "The resultant kaprekar Series is : \n",
            "\n",
            "[1504, 5265, 3996, 6264, 4176, 6174]\n"
          ]
        }
      ]
    },
    {
      "cell_type": "markdown",
      "source": [
        "5 Fizz Buzz\n",
        "The FizzBuzz problem is a classic test given in coding interviews. The task is\n",
        "simple:\n",
        "Print integers 1 to N, but print “Fizz” if an integer is divisible by 3, “Buzz”\n",
        "if an integer is divisible by 5, and “FizzBuzz” if an integer is divisible by both\n",
        "3 and 5."
      ],
      "metadata": {
        "id": "f3kE49VzpxGk"
      }
    },
    {
      "cell_type": "code",
      "source": [
        "x = int(input(\"Enter the number of Integers to generate: \"))\n",
        "for i in range(3, x+1, 3):\n",
        "  if i%15 ==0:\n",
        "    pass\n",
        "  else:\n",
        "    print('fizz')\n",
        "for i in range(5, x+1, 5):\n",
        "  if i%15 ==0:\n",
        "    pass\n",
        "  else:\n",
        "    print('buzz')\n",
        "for i in range(15, x+1, 15):\n",
        "  print('FizzBuzz')\n",
        "\n",
        "\n"
      ],
      "metadata": {
        "colab": {
          "base_uri": "https://localhost:8080/"
        },
        "id": "lETF0NwCpwtm",
        "outputId": "8f689334-d315-424f-fb3f-99a3d93b3b62"
      },
      "execution_count": 36,
      "outputs": [
        {
          "output_type": "stream",
          "name": "stdout",
          "text": [
            "Enter the number of Integers to generate: 61\n",
            "fizz\n",
            "fizz\n",
            "fizz\n",
            "fizz\n",
            "fizz\n",
            "fizz\n",
            "fizz\n",
            "fizz\n",
            "fizz\n",
            "fizz\n",
            "fizz\n",
            "fizz\n",
            "fizz\n",
            "fizz\n",
            "fizz\n",
            "fizz\n",
            "buzz\n",
            "buzz\n",
            "buzz\n",
            "buzz\n",
            "buzz\n",
            "buzz\n",
            "buzz\n",
            "buzz\n",
            "FizzBuzz\n",
            "FizzBuzz\n",
            "FizzBuzz\n",
            "FizzBuzz\n"
          ]
        }
      ]
    },
    {
      "cell_type": "markdown",
      "source": [
        "6 Euler Problem 5\n",
        "2520 is the smallest number that can be divided by each of the numbers from 1\n",
        "to 10 without any remainder.\n",
        "What is the smallest positive number that is evenly divisible by all of the\n",
        "numbers from 1 to 20?"
      ],
      "metadata": {
        "id": "yCfEESwluAHS"
      }
    },
    {
      "cell_type": "code",
      "source": [
        "def factorize(n):\n",
        "  factors = []\n",
        "  while n%2 == 0:\n",
        "    factors.append(2)\n",
        "    n //= 2\n",
        "\n",
        "  r = 3\n",
        "  while n>1:\n",
        "    while n%r==0:\n",
        "      factors.append(r)\n",
        "      n//=r\n",
        "    r+=2\n",
        "  return factors\n",
        "\n",
        "def duplicate(List):\n",
        "  new_List = []\n",
        "  for i in range(0, len(List)):\n",
        "    if List[i] in new_List:\n",
        "      pass\n",
        "    else:\n",
        "      new_List.append(List[i])\n",
        "  return new_List\n",
        "\n",
        "def filtered(semifinal_list):\n",
        "  filtered_list = []\n",
        "  for a in range(0, len(semifinal_list)):\n",
        "    flag = semifinal_list[a]\n",
        "    for b in range(a, len(semifinal_list)):\n",
        "      if semifinal_list[a][0] == semifinal_list[b][0]:\n",
        "        if semifinal_list[a][1] < semifinal_list[b][1]:\n",
        "          flag = semifinal_list[b]\n",
        "    filtered_list.append(flag)\n",
        "  return filtered_list\n",
        "\n",
        "\n",
        "latest_list = []\n",
        "for i in range(2, 11):\n",
        "  factors = factorize(i)\n",
        "  for y in range(0, len(factors)):\n",
        "    latest_list.append([factors[y], factors.count(factors[y])])\n",
        "\n",
        "print(latest_list)\n",
        "semifinal_list = duplicate(latest_list)\n",
        "print(semifinal_list)\n",
        "super_list = filtered(semifinal_list)\n",
        "print(super_list)\n",
        "final_list = duplicate(super_list)\n",
        "print(final_list)\n",
        "\n",
        "prod = 1\n",
        "for x,y in final_list:\n",
        "  prod = prod * (x**y)\n",
        "\n",
        "print(prod)\n",
        "\n"
      ],
      "metadata": {
        "colab": {
          "base_uri": "https://localhost:8080/"
        },
        "id": "9-oF3nRxuD4u",
        "outputId": "1f280f3e-3cb8-46b2-c3ca-a47f84337aa8"
      },
      "execution_count": 1,
      "outputs": [
        {
          "output_type": "stream",
          "name": "stdout",
          "text": [
            "[[2, 1], [3, 1], [2, 2], [2, 2], [5, 1], [2, 1], [3, 1], [7, 1], [2, 3], [2, 3], [2, 3], [3, 2], [3, 2], [2, 1], [5, 1]]\n",
            "[[2, 1], [3, 1], [2, 2], [5, 1], [7, 1], [2, 3], [3, 2]]\n",
            "[[2, 3], [3, 2], [2, 3], [5, 1], [7, 1], [2, 3], [3, 2]]\n",
            "[[2, 3], [3, 2], [5, 1], [7, 1]]\n",
            "2520\n"
          ]
        }
      ]
    }
  ]
}