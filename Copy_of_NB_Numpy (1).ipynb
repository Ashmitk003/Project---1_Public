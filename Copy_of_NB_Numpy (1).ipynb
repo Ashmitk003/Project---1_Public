{
  "nbformat": 4,
  "nbformat_minor": 0,
  "metadata": {
    "colab": {
      "provenance": []
    },
    "kernelspec": {
      "name": "python3",
      "display_name": "Python 3"
    }
  },
  "cells": [
    {
      "cell_type": "markdown",
      "source": [
        "## Practice Notebook"
      ],
      "metadata": {
        "id": "pj9zUCIaV8-s"
      }
    },
    {
      "cell_type": "markdown",
      "metadata": {
        "id": "XaMNn3wLYPCp"
      },
      "source": [
        "### Introduction to Numpy\n",
        "NumPy (Numerical Python) is a python library for scientific computing, that provides high-performance vectors, matrices and higher-dimensional data structures for Python."
      ]
    },
    {
      "cell_type": "markdown",
      "metadata": {
        "id": "U2hvjYvI-PCp"
      },
      "source": [
        "## Numpy"
      ]
    },
    {
      "cell_type": "markdown",
      "metadata": {
        "id": "bFXr9Jw6thml"
      },
      "source": [
        "####  Exercise 1: Import the numpy package as np.\n",
        "\n",
        "Hint: use 'import … as …'"
      ]
    },
    {
      "cell_type": "code",
      "metadata": {
        "id": "IDOY6ZMvqLo8"
      },
      "source": [
        "import numpy as np"
      ],
      "execution_count": null,
      "outputs": []
    },
    {
      "cell_type": "markdown",
      "metadata": {
        "id": "RK7s0EsTtnal"
      },
      "source": [
        "####  Exercise 2: Print the numpy version and the configuration.\n",
        "\n",
        "Hint: np.\\_\\_version__, np.show_config"
      ]
    },
    {
      "cell_type": "code",
      "metadata": {
        "id": "JBcycyWLue6Z",
        "outputId": "b38a90a8-c405-4513-ca3b-39b941ef30fc",
        "colab": {
          "base_uri": "https://localhost:8080/"
        }
      },
      "source": [
        "print(np.__version__)\n",
        "print(np.show_config())"
      ],
      "execution_count": null,
      "outputs": [
        {
          "output_type": "stream",
          "name": "stdout",
          "text": [
            "1.25.2\n",
            "openblas64__info:\n",
            "    libraries = ['openblas64_', 'openblas64_']\n",
            "    library_dirs = ['/usr/local/lib']\n",
            "    language = c\n",
            "    define_macros = [('HAVE_CBLAS', None), ('BLAS_SYMBOL_SUFFIX', '64_'), ('HAVE_BLAS_ILP64', None)]\n",
            "    runtime_library_dirs = ['/usr/local/lib']\n",
            "blas_ilp64_opt_info:\n",
            "    libraries = ['openblas64_', 'openblas64_']\n",
            "    library_dirs = ['/usr/local/lib']\n",
            "    language = c\n",
            "    define_macros = [('HAVE_CBLAS', None), ('BLAS_SYMBOL_SUFFIX', '64_'), ('HAVE_BLAS_ILP64', None)]\n",
            "    runtime_library_dirs = ['/usr/local/lib']\n",
            "openblas64__lapack_info:\n",
            "    libraries = ['openblas64_', 'openblas64_']\n",
            "    library_dirs = ['/usr/local/lib']\n",
            "    language = c\n",
            "    define_macros = [('HAVE_CBLAS', None), ('BLAS_SYMBOL_SUFFIX', '64_'), ('HAVE_BLAS_ILP64', None), ('HAVE_LAPACKE', None)]\n",
            "    runtime_library_dirs = ['/usr/local/lib']\n",
            "lapack_ilp64_opt_info:\n",
            "    libraries = ['openblas64_', 'openblas64_']\n",
            "    library_dirs = ['/usr/local/lib']\n",
            "    language = c\n",
            "    define_macros = [('HAVE_CBLAS', None), ('BLAS_SYMBOL_SUFFIX', '64_'), ('HAVE_BLAS_ILP64', None), ('HAVE_LAPACKE', None)]\n",
            "    runtime_library_dirs = ['/usr/local/lib']\n",
            "Supported SIMD extensions in this NumPy install:\n",
            "    baseline = SSE,SSE2,SSE3\n",
            "    found = SSSE3,SSE41,POPCNT,SSE42,AVX,F16C,FMA3,AVX2\n",
            "    not found = AVX512F,AVX512CD,AVX512_KNL,AVX512_KNM,AVX512_SKX,AVX512_CLX,AVX512_CNL,AVX512_ICL\n",
            "None\n"
          ]
        }
      ]
    },
    {
      "cell_type": "markdown",
      "metadata": {
        "id": "AeoNP5Cwughg"
      },
      "source": [
        "#### Exercise 3: Create an array of 10 zeros and 20 ones.\n",
        "\n",
        "Hint: np.zeros, np.ones"
      ]
    },
    {
      "cell_type": "code",
      "metadata": {
        "id": "iWQ0iMpwuhWx",
        "outputId": "4215fd6d-bf3b-4d58-ec77-f3faa33d4a8a",
        "colab": {
          "base_uri": "https://localhost:8080/"
        }
      },
      "source": [
        "arr = np.zeros((5,5,5))\n",
        "print(arr)\n",
        "print(arr.shape)\n",
        "arr = np.ones(20)\n",
        "print(arr)\n",
        "print(arr.shape)"
      ],
      "execution_count": null,
      "outputs": [
        {
          "output_type": "stream",
          "name": "stdout",
          "text": [
            "[[[0. 0. 0. 0. 0.]\n",
            "  [0. 0. 0. 0. 0.]\n",
            "  [0. 0. 0. 0. 0.]\n",
            "  [0. 0. 0. 0. 0.]\n",
            "  [0. 0. 0. 0. 0.]]\n",
            "\n",
            " [[0. 0. 0. 0. 0.]\n",
            "  [0. 0. 0. 0. 0.]\n",
            "  [0. 0. 0. 0. 0.]\n",
            "  [0. 0. 0. 0. 0.]\n",
            "  [0. 0. 0. 0. 0.]]\n",
            "\n",
            " [[0. 0. 0. 0. 0.]\n",
            "  [0. 0. 0. 0. 0.]\n",
            "  [0. 0. 0. 0. 0.]\n",
            "  [0. 0. 0. 0. 0.]\n",
            "  [0. 0. 0. 0. 0.]]\n",
            "\n",
            " [[0. 0. 0. 0. 0.]\n",
            "  [0. 0. 0. 0. 0.]\n",
            "  [0. 0. 0. 0. 0.]\n",
            "  [0. 0. 0. 0. 0.]\n",
            "  [0. 0. 0. 0. 0.]]\n",
            "\n",
            " [[0. 0. 0. 0. 0.]\n",
            "  [0. 0. 0. 0. 0.]\n",
            "  [0. 0. 0. 0. 0.]\n",
            "  [0. 0. 0. 0. 0.]\n",
            "  [0. 0. 0. 0. 0.]]]\n",
            "(5, 5, 5)\n",
            "[1. 1. 1. 1. 1. 1. 1. 1. 1. 1. 1. 1. 1. 1. 1. 1. 1. 1. 1. 1.]\n",
            "(20,)\n"
          ]
        }
      ]
    },
    {
      "cell_type": "markdown",
      "metadata": {
        "id": "ka2AUzVQv804"
      },
      "source": [
        "####  Exercise 4: Create a vector with values ranging from 10 to 49.\n",
        "\n",
        "Hint: np.arange"
      ]
    },
    {
      "cell_type": "code",
      "metadata": {
        "id": "ZNwL2Ub5vuYk",
        "outputId": "7cb94389-cb9c-45d1-c848-771f3ccd8fb5",
        "colab": {
          "base_uri": "https://localhost:8080/"
        }
      },
      "source": [
        "x = np.arange(10,50)\n",
        "print(x)"
      ],
      "execution_count": null,
      "outputs": [
        {
          "output_type": "stream",
          "name": "stdout",
          "text": [
            "[10 11 12 13 14 15 16 17 18 19 20 21 22 23 24 25 26 27 28 29 30 31 32 33\n",
            " 34 35 36 37 38 39 40 41 42 43 44 45 46 47 48 49]\n"
          ]
        }
      ]
    },
    {
      "cell_type": "markdown",
      "metadata": {
        "id": "yAKm26J3wCgu"
      },
      "source": [
        "####  Exercise 5: Reverse a vector (first element becomes last).\n",
        "\n",
        "Hint: np.array[::-1]"
      ]
    },
    {
      "cell_type": "code",
      "metadata": {
        "id": "GOBhkidowD4c",
        "outputId": "0164df43-65f0-4c5c-8c1a-9da223744fae",
        "colab": {
          "base_uri": "https://localhost:8080/"
        }
      },
      "source": [
        "print(x[::-1])"
      ],
      "execution_count": null,
      "outputs": [
        {
          "output_type": "stream",
          "name": "stdout",
          "text": [
            "[49 48 47 46 45 44 43 42 41 40 39 38 37 36 35 34 33 32 31 30 29 28 27 26\n",
            " 25 24 23 22 21 20 19 18 17 16 15 14 13 12 11 10]\n"
          ]
        }
      ]
    },
    {
      "cell_type": "markdown",
      "metadata": {
        "id": "Q_06mID8w4MW"
      },
      "source": [
        "####  Exercise 6: Find the indices of the non-zero elements from [1, 2, 0, 0,  4, 0].\n",
        "\n",
        "Hint: np.nonzero"
      ]
    },
    {
      "cell_type": "code",
      "metadata": {
        "id": "y_iT1Dy0w7Gi",
        "outputId": "7c5ad149-43cc-44f2-89ae-76623bb3caef",
        "colab": {
          "base_uri": "https://localhost:8080/"
        }
      },
      "source": [
        "arr = np.array([1,2,0,0,4,0])\n",
        "print(np.nonzero(arr))\n",
        "print([arr[i] for i in np.nonzero(arr)])"
      ],
      "execution_count": null,
      "outputs": [
        {
          "output_type": "stream",
          "name": "stdout",
          "text": [
            "(array([0, 1, 4]),)\n",
            "[array([1, 2, 4])]\n"
          ]
        }
      ]
    },
    {
      "cell_type": "markdown",
      "metadata": {
        "id": "nVfeZNX3wGNb"
      },
      "source": [
        "####  Exercise 7: Create a 3x3 identity matrix.\n",
        "\n",
        "Hint: np.eye"
      ]
    },
    {
      "cell_type": "code",
      "metadata": {
        "id": "8k4ir6ahJYyO",
        "outputId": "4cabdbc0-98a5-4f83-af5d-6894043f1e89",
        "colab": {
          "base_uri": "https://localhost:8080/"
        }
      },
      "source": [
        "x = np.eye(3)\n",
        "print(x)"
      ],
      "execution_count": null,
      "outputs": [
        {
          "output_type": "stream",
          "name": "stdout",
          "text": [
            "[[1. 0. 0.]\n",
            " [0. 1. 0.]\n",
            " [0. 0. 1.]]\n"
          ]
        }
      ]
    },
    {
      "cell_type": "markdown",
      "metadata": {
        "id": "TzHOcbSIxK6s"
      },
      "source": [
        "#### Exercise 7: Generate a random number between 0 and 1 using numpy.\n",
        "\n",
        "Hint: np.random.rand()"
      ]
    },
    {
      "cell_type": "code",
      "metadata": {
        "id": "2ZbT4b3XJZeK",
        "outputId": "72b9f5f5-206e-41fa-fffe-833373262567",
        "colab": {
          "base_uri": "https://localhost:8080/"
        }
      },
      "source": [
        "a = np.random.rand(5)\n",
        "print(a)"
      ],
      "execution_count": null,
      "outputs": [
        {
          "output_type": "stream",
          "name": "stdout",
          "text": [
            "[0.17623883 0.34648692 0.62070508 0.03168488 0.6608495 ]\n"
          ]
        }
      ]
    },
    {
      "cell_type": "markdown",
      "metadata": {
        "id": "EgiUQA7QxUj2"
      },
      "source": [
        "####  Exercise 8: Create a 10x10 array with random values, find the minimum and the maximum values.\n",
        "\n",
        "Hint: min, max"
      ]
    },
    {
      "cell_type": "code",
      "metadata": {
        "id": "EX04NKRbJk2p",
        "colab": {
          "base_uri": "https://localhost:8080/"
        },
        "outputId": "66371dfc-6cde-45ea-df31-2b17c16c5394"
      },
      "source": [
        "arr = np.random.random((10,10))\n",
        "print(arr)\n",
        "print(arr.min(), arr.max())"
      ],
      "execution_count": null,
      "outputs": [
        {
          "output_type": "stream",
          "name": "stdout",
          "text": [
            "[[0.17023589 0.97554319 0.747162   0.1040845  0.79802527 0.00783399\n",
            "  0.58940833 0.40988985 0.47747431 0.42907859]\n",
            " [0.32842863 0.40800693 0.15234017 0.01958619 0.26625953 0.3683506\n",
            "  0.03855371 0.02356065 0.11826788 0.75461287]\n",
            " [0.12269936 0.84934657 0.80175384 0.69874657 0.56724597 0.5899097\n",
            "  0.8078234  0.95171254 0.7718632  0.15178564]\n",
            " [0.94512698 0.93803624 0.52115558 0.82617366 0.00798147 0.47090454\n",
            "  0.31834151 0.85280491 0.81820163 0.3272691 ]\n",
            " [0.12354248 0.63231393 0.57539825 0.60492957 0.3453949  0.77871822\n",
            "  0.42239115 0.36243902 0.01955632 0.82879552]\n",
            " [0.06787958 0.03661658 0.63449488 0.60353737 0.21873366 0.98520648\n",
            "  0.51007694 0.52656298 0.23039749 0.10462207]\n",
            " [0.86640193 0.28128894 0.51351886 0.61144039 0.61421799 0.8830711\n",
            "  0.09876276 0.72149297 0.04281587 0.92325369]\n",
            " [0.02679373 0.00776494 0.79621052 0.07888983 0.883955   0.37425122\n",
            "  0.57502493 0.05850334 0.69568543 0.43375341]\n",
            " [0.14801293 0.58058965 0.80649955 0.54938513 0.93494108 0.2169649\n",
            "  0.44992304 0.00763853 0.37143747 0.61758518]\n",
            " [0.29975963 0.07220097 0.94508043 0.17659312 0.2099076  0.32478152\n",
            "  0.07873327 0.65910284 0.97918509 0.18810147]]\n",
            "0.007638530207996208 0.9852064789048706\n"
          ]
        }
      ]
    },
    {
      "cell_type": "code",
      "source": [
        "arr = np.random.randint(0,5,(10,5))\n",
        "print(arr)\n",
        "print(arr.shape, len(arr))"
      ],
      "metadata": {
        "colab": {
          "base_uri": "https://localhost:8080/"
        },
        "id": "2eJ3zY-Mphu_",
        "outputId": "a4e98ebe-24bd-4737-bcb1-45b302326da1"
      },
      "execution_count": null,
      "outputs": [
        {
          "output_type": "stream",
          "name": "stdout",
          "text": [
            "[[4 1 4 3 3]\n",
            " [4 4 1 0 1]\n",
            " [2 2 2 1 1]\n",
            " [3 2 1 1 0]\n",
            " [3 4 1 1 3]\n",
            " [0 0 4 4 3]\n",
            " [2 4 3 3 1]\n",
            " [3 0 3 1 0]\n",
            " [2 3 3 0 0]\n",
            " [3 0 1 3 4]]\n",
            "(10, 5) 10\n"
          ]
        }
      ]
    },
    {
      "cell_type": "markdown",
      "metadata": {
        "id": "5dPx9hY7xYJP"
      },
      "source": [
        "####  Exercise 9: Create a numpy array from the given `List`.\n",
        "\n",
        "Hint: np.array"
      ]
    },
    {
      "cell_type": "code",
      "metadata": {
        "id": "t9_k8sooJmJZ",
        "colab": {
          "base_uri": "https://localhost:8080/"
        },
        "outputId": "874f3ad7-b89c-43ba-99b8-35ac3585eddd"
      },
      "source": [
        "x = [10,20,40]\n",
        "print(len(x))\n",
        "x = np.array(x)\n",
        "print(len(x), x.shape)"
      ],
      "execution_count": null,
      "outputs": [
        {
          "output_type": "stream",
          "name": "stdout",
          "text": [
            "3\n",
            "3 (3,)\n"
          ]
        }
      ]
    },
    {
      "cell_type": "markdown",
      "metadata": {
        "id": "dp5BRXlMx6Fu"
      },
      "source": [
        "####  Exercise 10: Matrix multiplication for 1-D array.\n",
        "\n",
        "To multiply the matrix a and b.\n",
        "\n",
        "Hint: np.dot"
      ]
    },
    {
      "cell_type": "code",
      "metadata": {
        "id": "Q7F6olHUEfYT",
        "colab": {
          "base_uri": "https://localhost:8080/"
        },
        "outputId": "6d86c66d-d9f1-4373-80a6-a742c9f5eb7e"
      },
      "source": [
        "a = np.array([9, 5, 7, 4])\n",
        "b = np.array([9, 5, 4, 3])\n",
        "print(a.shape, b.shape)\n",
        "\n",
        "prod = np.dot(a,b)\n",
        "print(prod)\n"
      ],
      "execution_count": null,
      "outputs": [
        {
          "output_type": "stream",
          "name": "stdout",
          "text": [
            "(4,) (4,)\n",
            "146\n",
            "[81 25 28 12]\n"
          ]
        }
      ]
    },
    {
      "cell_type": "markdown",
      "metadata": {
        "id": "MbR5BjJLKte-"
      },
      "source": [
        "####  Exercise 11: Transpose the given array [ [ 1, 2, 3], [ 4, 5, 6],  [ 7, 8, 9], [10, 11, 12] ].\n",
        "Hint: np.transpose( )"
      ]
    },
    {
      "cell_type": "code",
      "metadata": {
        "id": "L5h9uKpzKx1o",
        "colab": {
          "base_uri": "https://localhost:8080/"
        },
        "outputId": "8740a0f3-569e-4c42-bcef-5ea19c030943"
      },
      "source": [
        "x = np.array([ [ 1, 2, 3], [ 4, 5, 6], [ 7, 8, 9], [10, 11, 12] ])\n",
        "print(x.shape)\n",
        "x = np.transpose(x)\n",
        "print(x.shape)"
      ],
      "execution_count": null,
      "outputs": [
        {
          "output_type": "stream",
          "name": "stdout",
          "text": [
            "(4, 3)\n",
            "(3, 4)\n"
          ]
        }
      ]
    },
    {
      "cell_type": "markdown",
      "metadata": {
        "id": "TqTdqi0qLPzM"
      },
      "source": [
        "####  Exercise 12: Given an array *A*, calculate the square root of the elements in it.\n",
        "\n",
        "Hint: np.sqrt( )"
      ]
    },
    {
      "cell_type": "code",
      "metadata": {
        "id": "YevrEXCILv2u",
        "colab": {
          "base_uri": "https://localhost:8080/"
        },
        "outputId": "fcd32764-d381-4b7d-d6ce-2e68899c078a"
      },
      "source": [
        "A = np.arange(1,20)\n",
        "print(A)\n",
        "print(np.sqrt(A))"
      ],
      "execution_count": null,
      "outputs": [
        {
          "output_type": "stream",
          "name": "stdout",
          "text": [
            "[ 1  2  3  4  5  6  7  8  9 10 11 12 13 14 15 16 17 18 19]\n",
            "[1.         1.41421356 1.73205081 2.         2.23606798 2.44948974\n",
            " 2.64575131 2.82842712 3.         3.16227766 3.31662479 3.46410162\n",
            " 3.60555128 3.74165739 3.87298335 4.         4.12310563 4.24264069\n",
            " 4.35889894]\n"
          ]
        }
      ]
    },
    {
      "cell_type": "code",
      "source": [
        "print([i.dtype for i in np.sqrt([9,16])])"
      ],
      "metadata": {
        "colab": {
          "base_uri": "https://localhost:8080/"
        },
        "id": "_1aEZt-YssTY",
        "outputId": "5eb7c418-14e5-4234-a914-d503e44671e1"
      },
      "execution_count": null,
      "outputs": [
        {
          "output_type": "stream",
          "name": "stdout",
          "text": [
            "[dtype('float64'), dtype('float64')]\n"
          ]
        }
      ]
    },
    {
      "cell_type": "markdown",
      "metadata": {
        "id": "-xAt-FKUM7eF"
      },
      "source": [
        "#### Exercise 13: Concatenate two numpy arrays columnwise  by specifying axis = 1.\n",
        "Hint: np.concatenate( )"
      ]
    },
    {
      "cell_type": "code",
      "metadata": {
        "id": "b8KKeA8HNHWE",
        "colab": {
          "base_uri": "https://localhost:8080/"
        },
        "outputId": "6e189e9f-01a5-4df1-c2df-e988a142277a"
      },
      "source": [
        "c =np.array([[1,2],[3,4]])\n",
        "d =np.array([[5,6],[7,8]])\n",
        "\n",
        "arr = np.concatenate((c,d), axis=0)\n",
        "print(arr)\n",
        "\n",
        "arr = np.concatenate((c,d), axis=1)\n",
        "print(arr)\n"
      ],
      "execution_count": null,
      "outputs": [
        {
          "output_type": "stream",
          "name": "stdout",
          "text": [
            "[[1 2]\n",
            " [3 4]\n",
            " [5 6]\n",
            " [7 8]]\n",
            "[[1 2 5 6]\n",
            " [3 4 7 8]]\n"
          ]
        }
      ]
    },
    {
      "cell_type": "markdown",
      "metadata": {
        "id": "Rbt3-28YOKIl"
      },
      "source": [
        "#### Exercise 14: Print the second and the third column for the given multidimensional array.\n"
      ]
    },
    {
      "cell_type": "code",
      "metadata": {
        "id": "6hJct3wLQMzL",
        "colab": {
          "base_uri": "https://localhost:8080/"
        },
        "outputId": "2ee07c38-e20a-4a43-e79e-383a3c60274c"
      },
      "source": [
        "a = np.array([[2, 4, 6, 8, 10],\n",
        "              [3, 6, 9, 12, 15],\n",
        "              [4, 8, 12, 16, 20]])\n",
        "\n",
        "print(a[1:3,2:4])\n",
        "print(a[:,2])\n",
        "\n",
        "print(a[:,1:5:2])"
      ],
      "execution_count": null,
      "outputs": [
        {
          "output_type": "stream",
          "name": "stdout",
          "text": [
            "[[ 9 12]\n",
            " [12 16]]\n",
            "[ 6  9 12]\n",
            "[[ 4  8]\n",
            " [ 6 12]\n",
            " [ 8 16]]\n"
          ]
        }
      ]
    },
    {
      "cell_type": "code",
      "source": [
        "x = [10,20,30,40,50]\n",
        "print(x[:3])"
      ],
      "metadata": {
        "colab": {
          "base_uri": "https://localhost:8080/"
        },
        "id": "MWTZds6huWuq",
        "outputId": "7c36ef80-8252-4434-ee7e-48f0069b0430"
      },
      "execution_count": null,
      "outputs": [
        {
          "output_type": "stream",
          "name": "stdout",
          "text": [
            "[10, 20, 30]\n"
          ]
        }
      ]
    },
    {
      "cell_type": "markdown",
      "metadata": {
        "id": "C9ZyeDhBQYpv"
      },
      "source": [
        "####  Exercise 15: For the given multidimensional array:\n",
        "1. Calculate the mean row wise by specifying axis = 1 and column wise by specifying axis =0.\n",
        "2. What is the average value of an array?"
      ]
    },
    {
      "cell_type": "code",
      "metadata": {
        "id": "xfS6nsFlkyDw",
        "colab": {
          "base_uri": "https://localhost:8080/"
        },
        "outputId": "1fe0eb5d-8220-4ce2-90be-e0f855a815ce"
      },
      "source": [
        "array = np.array([[2, 4, 6, 8, 10], [3, 6, 9, 12, 15], [4, 8, 12, 16, 20]])\n",
        "print(array.shape)\n",
        "print(array.mean(axis=0), array.mean(axis=1))"
      ],
      "execution_count": null,
      "outputs": [
        {
          "output_type": "stream",
          "name": "stdout",
          "text": [
            "(3, 5)\n",
            "[ 3.  6.  9. 12. 15.] [ 6.  9. 12.]\n"
          ]
        }
      ]
    },
    {
      "cell_type": "markdown",
      "metadata": {
        "id": "iM4ALiSdn5dR"
      },
      "source": [
        "#### Exercise 16: Create an array of all the even numbers from 30 to 70."
      ]
    },
    {
      "cell_type": "code",
      "metadata": {
        "id": "-Nk18AU7n-jG",
        "colab": {
          "base_uri": "https://localhost:8080/"
        },
        "outputId": "84447f52-8d01-4b52-8d62-01ea513bcc6b"
      },
      "source": [
        "arr = np.arange(30,71, 2)\n",
        "print(arr)"
      ],
      "execution_count": null,
      "outputs": [
        {
          "output_type": "stream",
          "name": "stdout",
          "text": [
            "[30 32 34 36 38 40 42 44 46 48 50 52 54 56 58 60 62 64 66 68 70]\n"
          ]
        }
      ]
    },
    {
      "cell_type": "markdown",
      "metadata": {
        "id": "4dk-KHVD6AGF"
      },
      "source": [
        "#### Exercise 17: For the given array, get the slice of the first row and print them."
      ]
    },
    {
      "cell_type": "code",
      "metadata": {
        "id": "aQ_1ZMEuGzFE",
        "colab": {
          "base_uri": "https://localhost:8080/"
        },
        "outputId": "74500e40-b125-482b-8968-b71d1d972e12"
      },
      "source": [
        "a3 = np.array([[[10, 11, 12], [13, 14, 15], [16, 17, 18]],\n",
        "               [[20, 21, 22], [23, 24, 25], [26, 27, 28]],\n",
        "               [[30, 31, 32], [33, 34, 35], [36, 37, 38]]])\n",
        "\n",
        "print(a3[0])"
      ],
      "execution_count": null,
      "outputs": [
        {
          "output_type": "stream",
          "name": "stdout",
          "text": [
            "[[10 11 12]\n",
            " [13 14 15]\n",
            " [16 17 18]]\n"
          ]
        }
      ]
    }
  ]
}